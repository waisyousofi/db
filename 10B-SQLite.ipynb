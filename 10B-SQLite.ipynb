{
 "cells": [
  {
   "cell_type": "code",
   "execution_count": null,
   "metadata": {},
   "outputs": [],
   "source": []
  },
  {
   "cell_type": "code",
   "execution_count": null,
   "metadata": {},
   "outputs": [],
   "source": []
  },
  {
   "cell_type": "markdown",
   "metadata": {},
   "source": [
    "import os.path"
   ]
  },
  {
   "cell_type": "code",
   "execution_count": 1,
   "metadata": {},
   "outputs": [],
   "source": [
    "from os import path\n",
    "import sqlite3\n",
    "import pandas as pd"
   ]
  },
  {
   "cell_type": "markdown",
   "metadata": {},
   "source": [
    "Using a connection object we can create a cursor object which allows us to <br>\n",
    "execute SQLite command/queries through Python.<br>\n",
    "We can create as many cursors as we want from a single connection object. <br>\n",
    "Like connection object, this cursor object is also not thread-safe. the sqlite3 <br>\n",
    "module doesnâ€™t allow sharing cursors between threads. If you still try to do so, <br>\n",
    "you will get an exception at runtime."
   ]
  },
  {
   "cell_type": "markdown",
   "metadata": {},
   "source": [
    "the advantage of cursor is that it retuns extra information at insert level"
   ]
  },
  {
   "cell_type": "code",
   "execution_count": 3,
   "metadata": {},
   "outputs": [],
   "source": [
    "DBName = '..\\dataset/sql-employee.db'"
   ]
  },
  {
   "cell_type": "markdown",
   "metadata": {},
   "source": [
    "craete new database"
   ]
  },
  {
   "cell_type": "code",
   "execution_count": 4,
   "metadata": {},
   "outputs": [],
   "source": [
    "def create_conn(pDBName):\n",
    "    if path.exists(pDBName):\n",
    "        print(\"Database File Exists ...\")\n",
    "        pConn = None\n",
    "        return (pConn)    \n",
    "    try:\n",
    "        pConn = sqlite3.connect(pDBName)\n",
    "        print(\"Database Creation Successful ...\")\n",
    "    except:\n",
    "        print(\"Database Creation Failed ...\")\n",
    "        pConn = None\n",
    "    return (pConn)    "
   ]
  },
  {
   "cell_type": "markdown",
   "metadata": {},
   "source": [
    "open existing database"
   ]
  },
  {
   "cell_type": "code",
   "execution_count": 5,
   "metadata": {},
   "outputs": [],
   "source": [
    "def open_conn(pDBName):\n",
    "    if not path.exists(pDBName):\n",
    "        print(\"Database File Not Found ...\")\n",
    "        pConn = None\n",
    "        return (pConn)    \n",
    "    try:\n",
    "        pConn = sqlite3.connect(pDBName)\n",
    "        print(\"Connection Successful ...\")\n",
    "    except:\n",
    "        print(\"Connection Failed ...\")\n",
    "        pConn = None\n",
    "    return (pConn)    "
   ]
  },
  {
   "cell_type": "markdown",
   "metadata": {},
   "source": [
    "close database"
   ]
  },
  {
   "cell_type": "code",
   "execution_count": 6,
   "metadata": {},
   "outputs": [],
   "source": [
    "def close_conn(pConn):\n",
    "    pConn.close()\n",
    "    print(\"Connection Closed ...\")\n",
    "    return"
   ]
  },
  {
   "cell_type": "markdown",
   "metadata": {},
   "source": [
    "show tables"
   ]
  },
  {
   "cell_type": "code",
   "execution_count": 7,
   "metadata": {},
   "outputs": [],
   "source": [
    "def show_tables(pConn):\n",
    "\tconn = open_conn(DBName)\n",
    "\t# query\n",
    "\ttry:\n",
    "\t\tcurs = conn.cursor()\n",
    "\t\trows = curs.execute(\"\"\" select name from sqlite_master where type = 'table'; \"\"\")\n",
    "\t\tprint(\"Query Successful ...\")\n",
    "\t\tfor row in rows:\n",
    "\t\t\tprint(row)    \n",
    "\texcept:  \n",
    "\t\tprint(\"Query Failed ...\")\n",
    "\t#commit the changes to db\t\t\t\n",
    "\tconn.commit()\n",
    "\t#close the connnection\n",
    "\tclose_conn(conn)\n",
    "\t#\n",
    "\treturn"
   ]
  },
  {
   "cell_type": "markdown",
   "metadata": {},
   "source": [
    "======================================================<br>\n",
    "create db<br>\n",
    "======================================================"
   ]
  },
  {
   "cell_type": "code",
   "execution_count": 8,
   "metadata": {},
   "outputs": [
    {
     "name": "stdout",
     "output_type": "stream",
     "text": [
      "Database Creation Successful ...\n",
      "Connection Closed ...\n"
     ]
    }
   ],
   "source": [
    "conn = create_conn(DBName)\n",
    "if conn != None:\n",
    "    close_conn(conn)"
   ]
  },
  {
   "cell_type": "markdown",
   "metadata": {},
   "source": [
    "======================================================<br>\n",
    "create table<br>\n",
    "======================================================"
   ]
  },
  {
   "cell_type": "code",
   "execution_count": 9,
   "metadata": {},
   "outputs": [
    {
     "name": "stdout",
     "output_type": "stream",
     "text": [
      "Connection Successful ...\n",
      "Table Creation Successful ...\n",
      "Connection Closed ...\n"
     ]
    }
   ],
   "source": [
    "conn = open_conn(DBName)\n",
    "# query\n",
    "try:\n",
    "    curs = conn.cursor()\n",
    "    curs.execute(\"\"\"\n",
    "        CREATE TABLE employee (\n",
    "            id INTEGER,\n",
    "            name TEXT,\n",
    "            donation REAL,\n",
    "            location TEXT,\n",
    "            status INTEGER \n",
    "        );\n",
    "    \"\"\")\n",
    "    print(\"Table Creation Successful ...\")\n",
    "except:  \n",
    "    print(\"Table Creation Failed ...\")\n",
    "# commit the changes to db\t\t\t\n",
    "if conn != None:\n",
    "    conn.commit()\n",
    "# close the connnection\n",
    "if conn != None:\n",
    "    close_conn(conn)"
   ]
  },
  {
   "cell_type": "markdown",
   "metadata": {},
   "source": [
    "======================================================<br>\n",
    "show tables<br>\n",
    "======================================================"
   ]
  },
  {
   "cell_type": "code",
   "execution_count": 10,
   "metadata": {},
   "outputs": [
    {
     "name": "stdout",
     "output_type": "stream",
     "text": [
      "Connection Successful ...\n",
      "Query Successful ...\n",
      "('employee',)\n",
      "Connection Closed ...\n"
     ]
    }
   ],
   "source": [
    "show_tables(DBName)"
   ]
  },
  {
   "cell_type": "markdown",
   "metadata": {},
   "source": [
    "======================================================<br>\n",
    "insert single record<br>\n",
    "======================================================"
   ]
  },
  {
   "cell_type": "code",
   "execution_count": 11,
   "metadata": {},
   "outputs": [
    {
     "name": "stdout",
     "output_type": "stream",
     "text": [
      "Connection Successful ...\n",
      "Insert Successful ...\n",
      "Rows Inserted: 1\n",
      "Connection Closed ...\n"
     ]
    }
   ],
   "source": [
    "conn = open_conn(DBName)\n",
    "try:\n",
    "    sql = \"\"\"INSERT INTO employee (id, name, donation, location, status) \n",
    "                values (101,'Vipul Pats', 6800.00, 'India', 1)\"\"\"\n",
    "    curs = conn.cursor()\n",
    "    curs.execute(sql)\n",
    "    conn.commit()        \n",
    "    print(\"Insert Successful ...\")\n",
    "    print(\"Rows Inserted: \"+str(curs.rowcount))\n",
    "except:\n",
    "    print(\"Insert Failed ...\")\n",
    "# close the connnection\n",
    "if conn != None:\n",
    "    close_conn(conn)"
   ]
  },
  {
   "cell_type": "markdown",
   "metadata": {},
   "source": [
    "======================================================<br>\n",
    "insert multiple records<br>\n",
    "======================================================<br>\n",
    "prepare"
   ]
  },
  {
   "cell_type": "code",
   "execution_count": 12,
   "metadata": {},
   "outputs": [
    {
     "name": "stdout",
     "output_type": "stream",
     "text": [
      "Connection Successful ...\n",
      "Group Insert Successful ...\n",
      "Rows Inserted: 3\n",
      "Connection Closed ...\n"
     ]
    }
   ],
   "source": [
    "conn = open_conn(DBName)\n",
    "try:\n",
    "    sql = \"\"\"INSERT INTO employee (id, name, donation, location, status) values (?, ?, ?, ?, ?);\"\"\"\n",
    "    data = [(102, 'Adil Null', 5500.00, 'India', 1),\n",
    "            (103, 'Abbas connti', 6500.00, 'India', 1),\n",
    "            (104, 'Abzi Book', 7000.00, 'India', 0)]        \n",
    "    # insert group records\n",
    "    curs = conn.cursor()\n",
    "    curs.executemany(sql, data)\n",
    "    conn.commit()\n",
    "    #print('We have inserted', curs.rowcount, 'records to the table.')\n",
    "    print(\"Group Insert Successful ...\")\n",
    "    print(\"Rows Inserted: \"+str(curs.rowcount))\n",
    "except:\n",
    "    print(\"Group Insert Failed ...\")\n",
    "# close the connnection\n",
    "if conn != None:\n",
    "    close_conn(conn)"
   ]
  },
  {
   "cell_type": "markdown",
   "metadata": {},
   "source": [
    "======================================================<br>\n",
    "select statement    <br>\n",
    "======================================================"
   ]
  },
  {
   "cell_type": "code",
   "execution_count": 13,
   "metadata": {},
   "outputs": [
    {
     "name": "stdout",
     "output_type": "stream",
     "text": [
      "Connection Successful ...\n",
      "Select Successful ...\n",
      "(101, 'Vipul Pats', 6800.0, 'India', 1)\n",
      "(102, 'Adil Null', 5500.0, 'India', 1)\n",
      "(103, 'Abbas connti', 6500.0, 'India', 1)\n",
      "(104, 'Abzi Book', 7000.0, 'India', 0)\n",
      "Connection Closed ...\n"
     ]
    }
   ],
   "source": [
    "conn = open_conn(DBName)\n",
    "try:\n",
    "    curs = conn.cursor()\n",
    "    rows = curs.execute(\"\"\"SELECT * FROM employee\"\"\")\n",
    "    print(\"Select Successful ...\")\n",
    "    for row in rows:\n",
    "        print(row)    \n",
    "except:\n",
    "    print(\"Select Failed ...\")\n",
    "# close the connnection\n",
    "if conn != None:\n",
    "    close_conn(conn)"
   ]
  },
  {
   "cell_type": "markdown",
   "metadata": {},
   "source": [
    "======================================================<br>\n",
    "check if table exists<br>\n",
    "not possible with con objet only<br>\n",
    "requries cursor object<br>\n",
    "======================================================"
   ]
  },
  {
   "cell_type": "code",
   "execution_count": 14,
   "metadata": {},
   "outputs": [
    {
     "name": "stdout",
     "output_type": "stream",
     "text": [
      "Connection Successful ...\n",
      "Table Exists ...\n",
      "Connection Closed ...\n"
     ]
    }
   ],
   "source": [
    "conn = open_conn(DBName)\n",
    "try:\n",
    "    curs = conn.cursor()\n",
    "    curs.execute(\"\"\" SELECT count(name) FROM sqlite_master WHERE type='table' AND name='employee' \"\"\")\n",
    "    # if the count is 1, then table exists\n",
    "    if (curs.fetchone()[0] == 1):\n",
    "        print('Table Exists ...')\n",
    "except:\n",
    "    print('Table Not Exists ...')\n",
    "# close the connnection\n",
    "if conn != None:\n",
    "    close_conn(conn)"
   ]
  },
  {
   "cell_type": "markdown",
   "metadata": {},
   "source": [
    "======================================================<br>\n",
    "update records<br>\n",
    "======================================================"
   ]
  },
  {
   "cell_type": "code",
   "execution_count": 15,
   "metadata": {},
   "outputs": [
    {
     "name": "stdout",
     "output_type": "stream",
     "text": [
      "Connection Successful ...\n",
      "Update Successful ...\n",
      "Rows Updated: 1\n",
      "Connection Closed ...\n"
     ]
    }
   ],
   "source": [
    "conn = open_conn(DBName)\n",
    "try:\n",
    "    sql = \"\"\" UPDATE employee SET donation = 9000 where id = 101 \"\"\"\n",
    "    curs = conn.cursor()\n",
    "    curs.execute(sql)\n",
    "    conn.commit()        \n",
    "    print(\"Update Successful ...\")\n",
    "    print(\"Rows Updated: \"+str(curs.rowcount))\n",
    "except:\n",
    "    print(\"Update Failed ...\")\n",
    "# close the connnection\n",
    "if conn != None:\n",
    "    close_conn(conn)"
   ]
  },
  {
   "cell_type": "markdown",
   "metadata": {},
   "source": [
    "======================================================<br>\n",
    "delete records<br>\n",
    "======================================================"
   ]
  },
  {
   "cell_type": "code",
   "execution_count": 16,
   "metadata": {},
   "outputs": [
    {
     "name": "stdout",
     "output_type": "stream",
     "text": [
      "Connection Successful ...\n",
      "Delete Successful ...\n",
      "Rows Deleted: 1\n",
      "Connection Closed ...\n"
     ]
    }
   ],
   "source": [
    "conn = open_conn(DBName)\n",
    "try:\n",
    "    sql = \"\"\" DELETE from employee where id = 101 \"\"\"\n",
    "    curs = conn.cursor()\n",
    "    curs.execute(sql)\n",
    "    conn.commit()        \n",
    "    print(\"Delete Successful ...\")\n",
    "    print(\"Rows Deleted: \"+str(curs.rowcount))\n",
    "except:\n",
    "    print(\"Delete Failed ...\")\n",
    "# close the connnection\n",
    "if conn != None:\n",
    "    close_conn(conn)"
   ]
  },
  {
   "cell_type": "markdown",
   "metadata": {},
   "source": [
    "======================================================<br>\n",
    "drop tables<br>\n",
    "======================================================<br>\n",
    "create table"
   ]
  },
  {
   "cell_type": "code",
   "execution_count": 17,
   "metadata": {},
   "outputs": [
    {
     "name": "stdout",
     "output_type": "stream",
     "text": [
      "Connection Successful ...\n",
      "Table Creation Successful ...\n",
      "Connection Closed ...\n",
      "Connection Successful ...\n",
      "Query Successful ...\n",
      "('employee',)\n",
      "('salary',)\n",
      "Connection Closed ...\n",
      "Connection Successful ...\n",
      "Drop Table Successful ...\n",
      "Rows Deleted: -1\n",
      "Connection Closed ...\n",
      "Connection Successful ...\n",
      "Query Successful ...\n",
      "('employee',)\n",
      "Connection Closed ...\n"
     ]
    }
   ],
   "source": [
    "conn = open_conn(DBName)\n",
    "try:\n",
    "    curs = conn.cursor()\n",
    "    curs.execute(\"\"\"\n",
    "        CREATE TABLE salary (\n",
    "            id INTEGER,\n",
    "            salary REAL,\n",
    "            joindate TEXT\n",
    "        );\n",
    "    \"\"\")\n",
    "    print(\"Table Creation Successful ...\")\n",
    "except:  \n",
    "    print(\"Table Creation Failed ...\")\n",
    "# commit the changes to db\t\t\t\n",
    "if conn != None:\n",
    "    conn.commit()\n",
    "# close the connnection\n",
    "if conn != None:\n",
    "    close_conn(conn)\n",
    "#\n",
    "# show tables\n",
    "show_tables(DBName)\n",
    "#\n",
    "# drop table\n",
    "conn = open_conn(DBName)\n",
    "try:\n",
    "    sql = \"\"\" DROP table IF EXISTS salary; \"\"\"\n",
    "    curs = conn.cursor()\n",
    "    curs.execute(sql)\n",
    "    conn.commit()        \n",
    "    print(\"Drop Table Successful ...\")\n",
    "    print(\"Rows Deleted: \"+str(curs.rowcount))\n",
    "except:\n",
    "    print(\"Drop Table Failed ...\")\n",
    "# commit the changes to db\t\t\t\n",
    "if conn != None:\n",
    "    conn.commit()\n",
    "# close the connnection\n",
    "if conn != None:\n",
    "    close_conn(conn)\n",
    "#\n",
    "# show tables\n",
    "show_tables(DBName)"
   ]
  },
  {
   "cell_type": "markdown",
   "metadata": {},
   "source": [
    "======================================================<br>\n",
    "select condition<br>\n",
    "======================================================"
   ]
  },
  {
   "cell_type": "code",
   "execution_count": 18,
   "metadata": {},
   "outputs": [
    {
     "name": "stdout",
     "output_type": "stream",
     "text": [
      "Connection Successful ...\n",
      "Select Successful ...\n",
      "(103, 'Abbas connti', 6500.0, 'India', 1)\n",
      "(104, 'Abzi Book', 7000.0, 'India', 0)\n",
      "Connection Closed ...\n"
     ]
    }
   ],
   "source": [
    "conn = open_conn(DBName)\n",
    "try:\n",
    "    curs = conn.cursor()\n",
    "    rows = curs.execute(\"\"\"SELECT * FROM employee WHERE donation > 6000 \"\"\")\n",
    "    print(\"Select Successful ...\")\n",
    "    for row in rows:\n",
    "        print(row)    \n",
    "except:\n",
    "    print(\"Select Failed ...\")\n",
    "# close the connnection\n",
    "if conn != None:\n",
    "    close_conn(conn)"
   ]
  },
  {
   "cell_type": "markdown",
   "metadata": {},
   "source": [
    "======================================================<br>\n",
    "select order by<br>\n",
    "======================================================"
   ]
  },
  {
   "cell_type": "code",
   "execution_count": 19,
   "metadata": {},
   "outputs": [
    {
     "name": "stdout",
     "output_type": "stream",
     "text": [
      "Connection Successful ...\n",
      "Select Successful ...\n",
      "(102, 'Adil Null', 5500.0, 'India', 1)\n",
      "(103, 'Abbas connti', 6500.0, 'India', 1)\n",
      "(104, 'Abzi Book', 7000.0, 'India', 0)\n",
      "Connection Closed ...\n"
     ]
    }
   ],
   "source": [
    "conn = open_conn(DBName)\n",
    "try:\n",
    "    curs = conn.cursor()\n",
    "    rows = curs.execute(\"\"\"SELECT * FROM employee ORDER BY id \"\"\")\n",
    "    print(\"Select Successful ...\")\n",
    "    for row in rows:\n",
    "        print(row)    \n",
    "except:\n",
    "    print(\"Select Failed ...\")\n",
    "# close the connnection\n",
    "if conn != None:\n",
    "    close_conn(conn)"
   ]
  },
  {
   "cell_type": "markdown",
   "metadata": {},
   "source": [
    "======================================================<br>\n",
    "select limit<br>\n",
    "======================================================"
   ]
  },
  {
   "cell_type": "code",
   "execution_count": 20,
   "metadata": {},
   "outputs": [
    {
     "name": "stdout",
     "output_type": "stream",
     "text": [
      "Connection Successful ...\n",
      "Select Successful ...\n",
      "(102, 'Adil Null', 5500.0, 'India', 1)\n",
      "(103, 'Abbas connti', 6500.0, 'India', 1)\n",
      "Connection Closed ...\n"
     ]
    }
   ],
   "source": [
    "conn = open_conn(DBName)\n",
    "try:\n",
    "    curs = conn.cursor()\n",
    "    rows = curs.execute(\"\"\"SELECT * FROM employee ORDER BY id LIMIT 2 \"\"\")\n",
    "    print(\"Select Successful ...\")\n",
    "    for row in rows:\n",
    "        print(row)    \n",
    "except:\n",
    "    print(\"Select Failed ...\")\n",
    "# close the connnection\n",
    "if conn != None:\n",
    "    close_conn(conn)"
   ]
  },
  {
   "cell_type": "markdown",
   "metadata": {},
   "source": [
    "======================================================<br>\n",
    "select condition and<br>\n",
    "======================================================"
   ]
  },
  {
   "cell_type": "code",
   "execution_count": 21,
   "metadata": {},
   "outputs": [
    {
     "name": "stdout",
     "output_type": "stream",
     "text": [
      "Connection Successful ...\n",
      "Select Successful ...\n",
      "(103, 'Abbas connti', 6500.0, 'India', 1)\n",
      "Connection Closed ...\n"
     ]
    }
   ],
   "source": [
    "conn = open_conn(DBName)\n",
    "try:\n",
    "    curs = conn.cursor()\n",
    "    rows = curs.execute(\"\"\"SELECT * FROM employee WHERE donation >= 6000 AND donation < 7000 \"\"\")\n",
    "    print(\"Select Successful ...\")\n",
    "    for row in rows:\n",
    "        print(row)    \n",
    "except:\n",
    "    print(\"Select Failed ...\")\n",
    "# close the connnection\n",
    "if conn != None:\n",
    "    close_conn(conn)"
   ]
  },
  {
   "cell_type": "markdown",
   "metadata": {},
   "source": [
    "======================================================<br>\n",
    "select condition or<br>\n",
    "======================================================"
   ]
  },
  {
   "cell_type": "code",
   "execution_count": 22,
   "metadata": {},
   "outputs": [
    {
     "name": "stdout",
     "output_type": "stream",
     "text": [
      "Connection Successful ...\n",
      "Select Successful ...\n",
      "(102, 'Adil Null', 5500.0, 'India', 1)\n",
      "(104, 'Abzi Book', 7000.0, 'India', 0)\n",
      "Connection Closed ...\n"
     ]
    }
   ],
   "source": [
    "conn = open_conn(DBName)\n",
    "try:\n",
    "    curs = conn.cursor()\n",
    "    rows = curs.execute(\"\"\"SELECT * FROM employee WHERE donation < 6000 or donation >= 7000 \"\"\")\n",
    "    print(\"Select Successful ...\")\n",
    "    for row in rows:\n",
    "        print(row)    \n",
    "except:\n",
    "    print(\"Select Failed ...\")\n",
    "# close the connnection\n",
    "if conn != None:\n",
    "    close_conn(conn)"
   ]
  },
  {
   "cell_type": "markdown",
   "metadata": {},
   "source": [
    "======================================================<br>\n",
    "select condition like<br>\n",
    "======================================================"
   ]
  },
  {
   "cell_type": "code",
   "execution_count": 23,
   "metadata": {},
   "outputs": [
    {
     "name": "stdout",
     "output_type": "stream",
     "text": [
      "Connection Successful ...\n",
      "Select Successful ...\n",
      "(103, 'Abbas connti', 6500.0, 'India', 1)\n",
      "(104, 'Abzi Book', 7000.0, 'India', 0)\n",
      "Connection Closed ...\n"
     ]
    }
   ],
   "source": [
    "conn = open_conn(DBName)\n",
    "try:\n",
    "    curs = conn.cursor()\n",
    "    rows = curs.execute(\"\"\"SELECT * FROM employee WHERE name like \"Ab%\" \"\"\")\n",
    "    print(\"Select Successful ...\")\n",
    "    for row in rows:\n",
    "        print(row)    \n",
    "except:\n",
    "    print(\"Select Failed ...\")\n",
    "# close the connnection\n",
    "if conn != None:\n",
    "    close_conn(conn)"
   ]
  },
  {
   "cell_type": "markdown",
   "metadata": {},
   "source": [
    "======================================================<br>\n",
    "select condition like<br>\n",
    "======================================================"
   ]
  },
  {
   "cell_type": "code",
   "execution_count": 28,
   "metadata": {},
   "outputs": [
    {
     "name": "stdout",
     "output_type": "stream",
     "text": [
      "Connection Successful ...\n",
      "Select Successful ...\n",
      "Connection Closed ...\n"
     ]
    }
   ],
   "source": [
    "conn = open_conn(DBName)\n",
    "try:\n",
    "    curs = conn.cursor()\n",
    "    rows = curs.execute(\"\"\"SELECT * FROM employee WHERE name like \"%pul%\" \"\"\")\n",
    "    print(\"Select Successful ...\")\n",
    "    for row in rows:\n",
    "        print(row)    \n",
    "except:\n",
    "    print(\"Select Failed ...\")\n",
    "# close the connnection\n",
    "if conn != None:\n",
    "    close_conn(conn)"
   ]
  },
  {
   "cell_type": "markdown",
   "metadata": {},
   "source": [
    "======================================================<br>\n",
    "sql to df<br>\n",
    "======================================================"
   ]
  },
  {
   "cell_type": "code",
   "execution_count": 31,
   "metadata": {},
   "outputs": [
    {
     "name": "stdout",
     "output_type": "stream",
     "text": [
      "Connection Successful ...\n",
      "SQL To DF Successful ...\n",
      "Connection Closed ...\n",
      "    id          name  donation location  status\n",
      "0  102     Adil Null    5500.0    India       1\n",
      "1  103  Abbas connti    6500.0    India       1\n",
      "2  104     Abzi Book    7000.0    India       0\n",
      "<class 'pandas.core.frame.DataFrame'>\n",
      "RangeIndex: 3 entries, 0 to 2\n",
      "Data columns (total 5 columns):\n",
      " #   Column    Non-Null Count  Dtype  \n",
      "---  ------    --------------  -----  \n",
      " 0   id        3 non-null      int64  \n",
      " 1   name      3 non-null      object \n",
      " 2   donation  3 non-null      float64\n",
      " 3   location  3 non-null      object \n",
      " 4   status    3 non-null      int64  \n",
      "dtypes: float64(1), int64(2), object(2)\n",
      "memory usage: 248.0+ bytes\n",
      "None\n"
     ]
    }
   ],
   "source": [
    "conn = open_conn(DBName)\n",
    "try:\n",
    "    df = pd.read_sql_query(\"SELECT * from employee\", conn)\n",
    "    print(\"SQL To DF Successful ...\")\n",
    "except:\n",
    "    print(\"SQL To DF Failed ...\")\n",
    "# close the connnection\n",
    "if conn != None:\n",
    "    close_conn(conn)\n",
    "print(df.head())\n",
    "print(df.info())"
   ]
  },
  {
   "cell_type": "markdown",
   "metadata": {},
   "source": [
    "======================================================<br>\n",
    "df to sql<br>\n",
    "======================================================"
   ]
  },
  {
   "cell_type": "code",
   "execution_count": 33,
   "metadata": {},
   "outputs": [
    {
     "name": "stdout",
     "output_type": "stream",
     "text": [
      "    EMPLOYEE_ID   FIRST_NAME    LAST_NAME     EMAIL  PHONE_NUMBER  HIRE_DATE  \\\n",
      "0           198       Donald     OConnell  DOCONNEL  650.507.9833  21-JUN-07   \n",
      "1           199      Douglas        Grant    DGRANT  650.507.9844  13-JAN-08   \n",
      "2           200     Jennifer       Whalen   JWHALEN  515.123.4444  17-SEP-03   \n",
      "3           201      Michael    Hartstein  MHARTSTE  515.123.5555  17-FEB-04   \n",
      "4           202          Pat          Fay      PFAY  603.123.6666  17-AUG-05   \n",
      "5           203        Susan       Mavris   SMAVRIS  515.123.7777  07-JUN-02   \n",
      "6           204      Hermann         Baer     HBAER  515.123.8888  07-JUN-02   \n",
      "7           205      Shelley      Higgins  SHIGGINS  515.123.8080  07-JUN-02   \n",
      "8           206      William        Gietz    WGIETZ  515.123.8181  07-JUN-02   \n",
      "9           100       Steven         King     SKING  515.123.4567  17-JUN-03   \n",
      "10          101        Neena      Kochhar  NKOCHHAR  515.123.4568  21-SEP-05   \n",
      "11          102          Lex      De Haan   LDEHAAN  515.123.4569  13-JAN-01   \n",
      "12          103    Alexander       Hunold   AHUNOLD  590.423.4567  03-JAN-06   \n",
      "13          104        Bruce        Ernst    BERNST  590.423.4568  21-MAY-07   \n",
      "14          105        David       Austin   DAUSTIN  590.423.4569  25-JUN-05   \n",
      "15          106        Valli    Pataballa  VPATABAL  590.423.4560  05-FEB-06   \n",
      "16          107        Diana      Lorentz  DLORENTZ  590.423.5567  07-FEB-07   \n",
      "17          108        Nancy    Greenberg  NGREENBE  515.124.4569  17-AUG-02   \n",
      "18          109       Daniel       Faviet   DFAVIET  515.124.4169  16-AUG-02   \n",
      "19          110         John         Chen     JCHEN  515.124.4269  28-SEP-05   \n",
      "20          111       Ismael      Sciarra  ISCIARRA  515.124.4369  30-SEP-05   \n",
      "21          112  Jose Manuel        Urman   JMURMAN  515.124.4469  07-MAR-06   \n",
      "22          113         Luis         Popp     LPOPP  515.124.4567  07-DEC-07   \n",
      "23          114          Den     Raphaely  DRAPHEAL  515.127.4561  07-DEC-02   \n",
      "24          115    Alexander         Khoo     AKHOO  515.127.4562  18-MAY-03   \n",
      "25          116       Shelli        Baida    SBAIDA  515.127.4563  24-DEC-05   \n",
      "26          117        Sigal       Tobias   STOBIAS  515.127.4564  24-JUL-05   \n",
      "27          118          Guy       Himuro   GHIMURO  515.127.4565  15-NOV-06   \n",
      "28          119        Karen   Colmenares  KCOLMENA  515.127.4566  10-AUG-07   \n",
      "29          120      Matthew        Weiss    MWEISS  650.123.1234  18-JUL-04   \n",
      "30          121         Adam        Fripp    AFRIPP  650.123.2234  10-APR-05   \n",
      "31          122        Payam     Kaufling  PKAUFLIN  650.123.3234  01-MAY-03   \n",
      "32          123       Shanta      Vollman  SVOLLMAN  650.123.4234  10-OCT-05   \n",
      "33          124        Kevin      Mourgos  KMOURGOS  650.123.5234  16-NOV-07   \n",
      "34          125        Julia        Nayer    JNAYER  650.124.1214  16-JUL-05   \n",
      "35          126        Irene  Mikkilineni  IMIKKILI  650.124.1224  28-SEP-06   \n",
      "36          127        James       Landry   JLANDRY  650.124.1334  14-JAN-07   \n",
      "37          128       Steven       Markle   SMARKLE  650.124.1434  08-MAR-08   \n",
      "38          129        Laura       Bissot   LBISSOT  650.124.5234  20-AUG-05   \n",
      "39          130        Mozhe     Atkinson  MATKINSO  650.124.6234  30-OCT-05   \n",
      "40          131        James       Marlow   JAMRLOW  650.124.7234  16-FEB-05   \n",
      "41          132           TJ        Olson   TJOLSON  650.124.8234  10-APR-07   \n",
      "42          133        Jason       Mallin   JMALLIN  650.127.1934  14-JUN-04   \n",
      "43          134      Michael       Rogers   MROGERS  650.127.1834  26-AUG-06   \n",
      "44          135           Ki          Gee      KGEE  650.127.1734  12-DEC-07   \n",
      "45          136        Hazel   Philtanker  HPHILTAN  650.127.1634  06-FEB-08   \n",
      "46          137       Renske       Ladwig   RLADWIG  650.121.1234  14-JUL-03   \n",
      "47          138      Stephen       Stiles   SSTILES  650.121.2034  26-OCT-05   \n",
      "48          139         John          Seo      JSEO  650.121.2019  12-FEB-06   \n",
      "49          140       Joshua        Patel    JPATEL  650.121.1834  06-APR-06   \n",
      "\n",
      "        JOB_ID  SALARY COMMISSION_PCT MANAGER_ID  DEPARTMENT_ID  \n",
      "0     SH_CLERK    2600             -         124             50  \n",
      "1     SH_CLERK    2600             -         124             50  \n",
      "2      AD_ASST    4400             -         101             10  \n",
      "3       MK_MAN   13000             -         100             20  \n",
      "4       MK_REP    6000             -         201             20  \n",
      "5       HR_REP    6500             -         101             40  \n",
      "6       PR_REP   10000             -         101             70  \n",
      "7       AC_MGR   12008             -         101            110  \n",
      "8   AC_ACCOUNT    8300             -         205            110  \n",
      "9      AD_PRES   24000             -          -              90  \n",
      "10       AD_VP   17000             -         100             90  \n",
      "11       AD_VP   17000             -         100             90  \n",
      "12     IT_PROG    9000             -         102             60  \n",
      "13     IT_PROG    6000             -         103             60  \n",
      "14     IT_PROG    4800             -         103             60  \n",
      "15     IT_PROG    4800             -         103             60  \n",
      "16     IT_PROG    4200             -         103             60  \n",
      "17      FI_MGR   12008             -         101            100  \n",
      "18  FI_ACCOUNT    9000             -         108            100  \n",
      "19  FI_ACCOUNT    8200             -         108            100  \n",
      "20  FI_ACCOUNT    7700             -         108            100  \n",
      "21  FI_ACCOUNT    7800             -         108            100  \n",
      "22  FI_ACCOUNT    6900             -         108            100  \n",
      "23      PU_MAN   11000             -         100             30  \n",
      "24    PU_CLERK    3100             -         114             30  \n",
      "25    PU_CLERK    2900             -         114             30  \n",
      "26    PU_CLERK    2800             -         114             30  \n",
      "27    PU_CLERK    2600             -         114             30  \n",
      "28    PU_CLERK    2500             -         114             30  \n",
      "29      ST_MAN    8000             -         100             50  \n",
      "30      ST_MAN    8200             -         100             50  \n",
      "31      ST_MAN    7900             -         100             50  \n",
      "32      ST_MAN    6500             -         100             50  \n",
      "33      ST_MAN    5800             -         100             50  \n",
      "34    ST_CLERK    3200             -         120             50  \n",
      "35    ST_CLERK    2700             -         120             50  \n",
      "36    ST_CLERK    2400             -         120             50  \n",
      "37    ST_CLERK    2200             -         120             50  \n",
      "38    ST_CLERK    3300             -         121             50  \n",
      "39    ST_CLERK    2800             -         121             50  \n",
      "40    ST_CLERK    2500             -         121             50  \n",
      "41    ST_CLERK    2100             -         121             50  \n",
      "42    ST_CLERK    3300             -         122             50  \n",
      "43    ST_CLERK    2900             -         122             50  \n",
      "44    ST_CLERK    2400             -         122             50  \n",
      "45    ST_CLERK    2200             -         122             50  \n",
      "46    ST_CLERK    3600             -         123             50  \n",
      "47    ST_CLERK    3200             -         123             50  \n",
      "48    ST_CLERK    2700             -         123             50  \n",
      "49    ST_CLERK    2500             -         123             50  \n",
      "Connection Successful ...\n",
      "DF To SQL Failed ...\n",
      "Connection Closed ...\n"
     ]
    }
   ],
   "source": [
    "df = pd.read_csv('..\\dataset/employees.csv')\n",
    "print(df)\n",
    "conn = open_conn(DBName)\n",
    "try:\n",
    "    # Write the new DataFrame to a new SQLite table\n",
    "    df.to_sql(\"employee\", conn, if_exists=\"append\", index=False)\n",
    "    #df.to_sql(\"employee\", conn, if_exists=\"replace\", index=False)\n",
    "    #df.to_sql(\"employee\", conn, if_exists=\"fail\", index=False)\n",
    "    conn.commit()        \n",
    "    print(\"DF To SQL Successful ...\")\n",
    "except:\n",
    "    print(\"DF To SQL Failed ...\")\n",
    "# commit the changes to db\t\t\t\n",
    "if conn != None:\n",
    "    conn.commit()\n",
    "# close the connnection\n",
    "if conn != None:\n",
    "    close_conn(conn)\n",
    "\n",
    "    \n",
    "\n",
    "    "
   ]
  },
  {
   "cell_type": "code",
   "execution_count": null,
   "metadata": {},
   "outputs": [],
   "source": []
  },
  {
   "cell_type": "code",
   "execution_count": null,
   "metadata": {},
   "outputs": [],
   "source": []
  }
 ],
 "metadata": {
  "kernelspec": {
   "display_name": "Python 3",
   "language": "python",
   "name": "python3"
  },
  "language_info": {
   "codemirror_mode": {
    "name": "ipython",
    "version": 3
   },
   "file_extension": ".py",
   "mimetype": "text/x-python",
   "name": "python",
   "nbconvert_exporter": "python",
   "pygments_lexer": "ipython3",
   "version": "3.8.5"
  }
 },
 "nbformat": 4,
 "nbformat_minor": 2
}
